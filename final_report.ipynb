{
 "cells": [
  {
   "cell_type": "code",
   "execution_count": 1,
   "id": "d0b8f10d-ccb8-4ed0-b580-25ec6171ff05",
   "metadata": {},
   "outputs": [],
   "source": [
    "# standard DS imports\n",
    "import pandas as pd\n",
    "import numpy as np\n",
    "\n",
    "# viz and stats\n",
    "%matplotlib inline\n",
    "import matplotlib.pyplot as plt\n",
    "import seaborn as sns\n",
    "sns.set()\n",
    "import plotly.express as px\n",
    "from scipy import stats\n",
    "\n",
    "# for feature selection verification and evaluation \n",
    "from sklearn.metrics import r2_score, mean_squared_error, explained_variance_score\n",
    "from sklearn.feature_selection import SelectKBest, RFE, f_regression, SequentialFeatureSelector\n",
    "from sklearn.linear_model import LinearRegression, LassoLars, TweedieRegressor\n",
    "from sklearn.preprocessing import PolynomialFeatures\n",
    "from sklearn.cluster import KMeans\n",
    "\n",
    "# local functions\n",
    "import wrangle"
   ]
  },
  {
   "cell_type": "markdown",
   "id": "f2ddb258-15ac-4510-9d7e-043f52207da9",
   "metadata": {},
   "source": [
    "# Zillow Project with Clustering"
   ]
  },
  {
   "cell_type": "markdown",
   "id": "2f25ebe0-ce09-413f-8574-76c85ae94a52",
   "metadata": {},
   "source": [
    "----"
   ]
  },
  {
   "cell_type": "markdown",
   "id": "d45fedcc-245b-4f9f-9145-82f9ae60bca6",
   "metadata": {},
   "source": [
    "## Executvie Summary:\n",
    "\n",
    "Goals:\n",
    "- Identify factors evaluated in home value\n",
    "- Build a model to best predict home value\n",
    "- Minimize Root Square Mean Error (RMSE) in modeling\n",
    "\n",
    "Key Findings:\n",
    "\n",
    "\n",
    "## -------------->>>>  BELOW NEEDS EDITS   <<<<------------\n",
    "- Location data and use of home square-footage is the most impactful for predicting home value. \n",
    "- Adding a bathroom increases home value more than adding a bedroom. \n",
    "- All models (LarLasso, Quadratic Regression, Cubic Regression) predicted home value better than the baseline.\n",
    "\n",
    "Takeaways:\n",
    " - My best model, Quadratic Regression, only reduced the baseline error by \\\\$35,000 or 13% of total baseline error. \n",
    " - More in home features and/or quality of life by location data would greatly improve the model. \n",
    "\n",
    "Recommendations:\n",
    "- Evaluate data that tax value assessors use in their assessment. They have a policy and procedure they must follow, and being able to use their process in predicting home value would be essential to building better models moving forward."
   ]
  },
  {
   "cell_type": "markdown",
   "id": "a8750ad4-a5d6-47fa-ba09-6ec76bc32cf0",
   "metadata": {},
   "source": [
    "----"
   ]
  },
  {
   "cell_type": "markdown",
   "id": "5a4877b7-7df9-43e8-b3c4-eb5cceb03567",
   "metadata": {},
   "source": [
    "## 1. Planning\n",
    "\n",
    " - Create deliverables:\n",
    "     - README\n",
    "     - final_report.ipynb\n",
    "     - working_report.ipynb\n",
    " - Build functional wrangle.py, explore.py, and model.py files\n",
    " - Acquire the data from the Code Up database via the wrangle.acquire functions\n",
    " - Prepare and split the data via the wrangle.prepare functions\n",
    " - Explore the data utilizing clustering and define hypothesis. Run the appropriate statistical tests in order to accept or reject each null hypothesis. Document findings and takeaways.\n",
    " - Create a baseline model in predicting home cost and document the RSME.\n",
    " - Fit and train three (3) regression models to predict cost on the train dataset.\n",
    " - Evaluate the models by comparing the train and validation data.\n",
    " - Select the best model and evaluate it on the train data.\n",
    " - Develop and document all findings, takeaways, recommendations and next steps. "
   ]
  },
  {
   "cell_type": "markdown",
   "id": "73b474d1-d8f0-4286-8115-90603f521f2c",
   "metadata": {},
   "source": [
    "-----"
   ]
  },
  {
   "cell_type": "markdown",
   "id": "9c3b805c-5e70-4b7e-b84f-61094f0053dd",
   "metadata": {},
   "source": [
    "## 2. Data Acquisition\n",
    "In this step, I called my acquire_zillow function from wrangle.py. This function:\n",
    "- grabs the data from the CodeUp database via a SQL query\n",
    "- creates a local CSV of the table, if not already saved locally"
   ]
  },
  {
   "cell_type": "markdown",
   "id": "d2ded4d1-62a9-4760-ab05-4dd5e4191929",
   "metadata": {
    "tags": []
   },
   "source": [
    "#### Data Dictionary\n",
    "\n",
    "| Target | Type | Description |\n",
    "| ---- | ---- | ---- |\n",
    "| value | int | The assessed tax value amount of the home |\n",
    "\n",
    "\n",
    "| Feature Name | Type | Description |\n",
    "| ---- | ---- | ---- |\n",
    "| area | float | Sum of square feet in the home |\n",
    "| baths | float | Count of bathrooms in the home |\n",
    "| beds | float | Count of bedrooms in the home |\n",
    "| decade | int | The decade the home was built in |\n",
    "| extras | float | Sum of the home's bathrooms, bedrooms, stories, pool, and if it has a garage |\n",
    "| garage | int | Sum of square feet in the garage |\n",
    "| half_bath | int | 1 if the home has a half bath, 0 if not |\n",
    "| lat | float | The home's geographical latitude |\n",
    "| lat_long | float | The home's latitude divided by its longitude |\n",
    "| living_space | float | The home area in sqft minus 132sqft per bedroom and 40sqft per bathroom (average sqft per respective room) |\n",
    "| location | object | The human-readable county name the home is in |\n",
    "| long | float | The home's geographical longitude |\n",
    "| los_angeles | int | 1 if the home is in Los Angeles County, 0 if not | \n",
    "| lot_size | float | Sum of square feet of the piece of land the home is on |\n",
    "| orange | int | 1 if the home is in Orange County, 0 if not |\n",
    "| pool | int | 1 if the home has a pool, 0 if not |\n",
    "| stories | int | Count of how many levels or stories the home has |\n",
    "| ventura | int | 1 if the home is in Ventura County, 0 if not|\n",
    "| yard_size | float | The lot size minus the home area in sqft |\n",
    "| year_built | float | The year the home was built |\n",
    "| zipcode | float | The US postal service 5-digit code for the home's location |"
   ]
  },
  {
   "cell_type": "markdown",
   "id": "2f3a9412-eb31-48b3-a3fb-3a05a36be3b4",
   "metadata": {},
   "source": [
    "### Acquisition Takeaways\n",
    "- The zillow data brings in 10 columns of data covering 52,441 homes. \n",
    "- These homes had transactions during 2017 and are tagged as Single Family Residences."
   ]
  },
  {
   "cell_type": "markdown",
   "id": "f23bf42a-5feb-4118-bba0-d5feef14f84a",
   "metadata": {},
   "source": [
    "----"
   ]
  },
  {
   "cell_type": "markdown",
   "id": "fc8eeb7c-5443-4a3c-9f0b-e1f7e8eeecfd",
   "metadata": {},
   "source": [
    "## 3. Data Preparation"
   ]
  },
  {
   "cell_type": "code",
   "execution_count": null,
   "id": "dc5b700c-1ac8-4d4d-8595-d75ab7077847",
   "metadata": {},
   "outputs": [],
   "source": []
  },
  {
   "cell_type": "markdown",
   "id": "04bd69ca-c8e4-4d0d-a958-fc5fbfed4bbd",
   "metadata": {},
   "source": [
    "#### Preparation Takeaways\n",
    "- stuff and things"
   ]
  },
  {
   "cell_type": "markdown",
   "id": "d0d8b719-13c9-4b9a-bf49-bf2616fb6b11",
   "metadata": {},
   "source": [
    "-----"
   ]
  },
  {
   "cell_type": "markdown",
   "id": "430b570d-1465-4dc8-8f9e-a90f99057bdd",
   "metadata": {},
   "source": [
    "## 4. Data Exploration"
   ]
  },
  {
   "cell_type": "code",
   "execution_count": null,
   "id": "61b405f1-fd91-4971-a96b-614d28ef5f99",
   "metadata": {},
   "outputs": [],
   "source": []
  },
  {
   "cell_type": "code",
   "execution_count": null,
   "id": "524d0f4b-c838-42b7-95e7-b3991a593e70",
   "metadata": {},
   "outputs": [],
   "source": []
  },
  {
   "cell_type": "code",
   "execution_count": null,
   "id": "674a3c5c-ae84-4ff0-864c-6705d4a4e057",
   "metadata": {},
   "outputs": [],
   "source": []
  },
  {
   "cell_type": "markdown",
   "id": "ddb6763c-d3fa-4e7e-8566-ad989c5f7760",
   "metadata": {},
   "source": [
    "### Explore Takeaways:\n",
    "- Finding 1\n",
    "- Finding 2\n",
    "- Finding 3"
   ]
  },
  {
   "cell_type": "markdown",
   "id": "524fe162-b37d-4107-85bb-68f71b7fc233",
   "metadata": {},
   "source": [
    "----"
   ]
  },
  {
   "cell_type": "markdown",
   "id": "f2369cac-ac6b-4e94-8884-08c9217e40e5",
   "metadata": {},
   "source": [
    "## 5. Data Modeling"
   ]
  },
  {
   "cell_type": "markdown",
   "id": "936e1ea1-85e7-4578-8385-a077502de8db",
   "metadata": {},
   "source": [
    "#### My goal is to minimize RMSE while maintaining a healthy R<sup>2</sup> in order to minimize error while still being able to account for it.\n",
    "Select features were dropped in order to maximize model fitting based on all findings. It is highly apparent location metrics play a key role in determining assessed home value. The location feature that was dropped below was split out to be los_angeles, orange, and ventura features in order to prevent skew in modeling. \n",
    "\n",
    "| Features Kept | Features Dropped |\n",
    "| ---- | ---- |\n",
    "| baths | location |\n",
    "| beds | decade |\n",
    "| area | yard_space |\n",
    "| lot_size |  |\n",
    "| zipcode |  |\n",
    "| lat |  |\n",
    "| long |  |\n",
    "| lat_long |  |\n",
    "| los_angeles |  |\n",
    "| orange |  |\n",
    "| ventura |  |\n",
    "| living_space |  |\n",
    "| half_bath |  |\n",
    "| pool |  |\n",
    "| stories |  |\n",
    "| garage |  |\n",
    "| extras |  |"
   ]
  },
  {
   "cell_type": "code",
   "execution_count": null,
   "id": "ef127f70-4c42-4a9d-a6dd-c3a51b11a7a1",
   "metadata": {},
   "outputs": [],
   "source": []
  },
  {
   "cell_type": "markdown",
   "id": "612152e6-fad7-4346-a794-c53eea56237a",
   "metadata": {
    "tags": []
   },
   "source": [
    "### Modeling Takeaways:\n",
    "- The quadratic regression model performed best with \\\\$196,592 RMSE and a .305 R<sup>2</sup> value.\n",
    "- The cubic regression model appears to be overfit.\n",
    "- All three models out performed the baseline by at least \\\\$30,000.\n",
    "- Despite beating baseline, none of these models are able to predict home value with a high degree of certainty. \n",
    "- Going forward I would look into other machine learning methods to create a better fit model."
   ]
  },
  {
   "cell_type": "markdown",
   "id": "36b460af-7414-4f62-b915-edd420133712",
   "metadata": {},
   "source": [
    "----"
   ]
  },
  {
   "cell_type": "markdown",
   "id": "4eb293f3-8bd2-4359-aa48-462bc5a1a022",
   "metadata": {},
   "source": [
    "# Conclusion"
   ]
  },
  {
   "cell_type": "markdown",
   "id": "7719f517-3938-4c9f-89da-84924cd4d6c2",
   "metadata": {},
   "source": [
    "## -------------->>>>  BELOW NEEDS EDITS   <<<<------------\n",
    "\n",
    "\n",
    "Home value is assessed through a myraid of metrics taken about the home. Location and area based information have proven the most valuable, but there is still room for improvement. My best model only reduced the root mean squared error by \\\\$35,000 from the baseline results; a 13% reduction in error.\n",
    "\n",
    "### Recommendations:\n",
    "- Evaluate data that tax value assessors use in their assessment. They have a policy and procedure they must follow, and being able to use their process in predicting home value would be essential to building better models moving forward.\n",
    "- Add data or begin tracking school rankings and crime rates for each neighborhood. I predict sections of homes with higher school ratings and low crime rates will value for more than homes with low school ratings or high crime rates.\n",
    "\n",
    "### Next Steps:\n",
    "- Feature engineer more detailed depictions of the use of the area inside the home. Specifically determine the kitchen vs living area sections of the home and see how this effects the model.\n",
    "- Develop a model using different machine learning techniques focused on geographical distance. Home value is often geographically clusered as depicted in our finidngs. "
   ]
  },
  {
   "cell_type": "markdown",
   "id": "4a26bd52-0ba2-4a8a-89af-2120ad3a797c",
   "metadata": {},
   "source": [
    "----"
   ]
  },
  {
   "cell_type": "code",
   "execution_count": null,
   "id": "43f1ee71-e535-4a80-ab9d-a7c54aa8089c",
   "metadata": {},
   "outputs": [],
   "source": []
  }
 ],
 "metadata": {
  "kernelspec": {
   "display_name": "Python 3 (ipykernel)",
   "language": "python",
   "name": "python3"
  },
  "language_info": {
   "codemirror_mode": {
    "name": "ipython",
    "version": 3
   },
   "file_extension": ".py",
   "mimetype": "text/x-python",
   "name": "python",
   "nbconvert_exporter": "python",
   "pygments_lexer": "ipython3",
   "version": "3.9.12"
  }
 },
 "nbformat": 4,
 "nbformat_minor": 5
}
